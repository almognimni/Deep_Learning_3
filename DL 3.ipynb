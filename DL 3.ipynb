{
 "cells": [
  {
   "metadata": {},
   "cell_type": "markdown",
   "source": [
    "# Preperations\n",
    "## Imports"
   ],
   "id": "150c7b3693676121"
  },
  {
   "metadata": {
    "ExecuteTime": {
     "end_time": "2025-01-27T13:18:42.783335Z",
     "start_time": "2025-01-27T13:18:42.780275Z"
    }
   },
   "cell_type": "code",
   "source": [
    "import torch\n",
    "from torch import nn\n",
    "from torch.utils.data import DataLoader\n",
    "from torchvision import datasets\n",
    "from torchvision.transforms import ToTensor\n",
    "import matplotlib.pyplot as plt\n",
    "import numpy as np\n",
    "import time"
   ],
   "id": "50cc2b8e05831707",
   "outputs": [],
   "execution_count": 46
  },
  {
   "metadata": {
    "ExecuteTime": {
     "end_time": "2025-01-27T13:18:42.795108Z",
     "start_time": "2025-01-27T13:18:42.788957Z"
    }
   },
   "cell_type": "code",
   "source": [
    "# Define compute device\n",
    "device = \"cuda\" if torch.cuda.is_available() else \"cpu\"\n",
    "print(f\"Using {device} device\")\n",
    "\n",
    "# set seed for reproducibility\n",
    "torch.manual_seed(42)"
   ],
   "id": "975c13b22ae760fd",
   "outputs": [
    {
     "name": "stdout",
     "output_type": "stream",
     "text": [
      "Using cuda device\n"
     ]
    },
    {
     "data": {
      "text/plain": [
       "<torch._C.Generator at 0x2291b8af730>"
      ]
     },
     "execution_count": 47,
     "metadata": {},
     "output_type": "execute_result"
    }
   ],
   "execution_count": 47
  },
  {
   "metadata": {},
   "cell_type": "markdown",
   "source": "## Dataset",
   "id": "26d6e90207d0d7d"
  },
  {
   "metadata": {
    "ExecuteTime": {
     "end_time": "2025-01-27T13:18:43.809680Z",
     "start_time": "2025-01-27T13:18:42.807958Z"
    }
   },
   "cell_type": "code",
   "source": [
    "# download cifar10 dataset\n",
    "train_data = datasets.CIFAR10(\n",
    "    root=\"data\",\n",
    "    train=True,\n",
    "    download=True,\n",
    "    transform=ToTensor()\n",
    ")\n",
    "test_data = datasets.CIFAR10(\n",
    "    root=\"data\",\n",
    "    train=False,\n",
    "    download=True,\n",
    "    transform=ToTensor()\n",
    ")"
   ],
   "id": "339dd76c8d8546ac",
   "outputs": [
    {
     "name": "stdout",
     "output_type": "stream",
     "text": [
      "Files already downloaded and verified\n",
      "Files already downloaded and verified\n"
     ]
    }
   ],
   "execution_count": 48
  },
  {
   "metadata": {
    "ExecuteTime": {
     "end_time": "2025-01-27T13:18:43.817278Z",
     "start_time": "2025-01-27T13:18:43.814273Z"
    }
   },
   "cell_type": "code",
   "source": [
    "# Create data loaders as baseline for the models - might be changed for later models\n",
    "batch_size = 64\n",
    "train_dataloader = DataLoader(train_data, batch_size=batch_size)\n",
    "test_dataloader = DataLoader(test_data, batch_size=batch_size)"
   ],
   "id": "78bee9d5ebf5cf4c",
   "outputs": [],
   "execution_count": 49
  },
  {
   "metadata": {},
   "cell_type": "markdown",
   "source": [
    "# Models\n",
    "## Base Model\n",
    "I'm planning to first demonstrate the inneficiancy of a fully connected model on the CIFAR10 dataset.\n",
    "\n",
    "### Model architecture"
   ],
   "id": "80fbf2d7cb47035f"
  },
  {
   "metadata": {
    "ExecuteTime": {
     "end_time": "2025-01-27T13:18:43.825831Z",
     "start_time": "2025-01-27T13:18:43.821743Z"
    }
   },
   "cell_type": "code",
   "source": [
    "class base_model(nn.Module):\n",
    "    def __init__(self):\n",
    "        super().__init__()\n",
    "        self.flatten = nn.Flatten()\n",
    "        self.fc1 = nn.Linear(3*32*32, 64)\n",
    "        self.fc2 = nn.Linear(64, 64)\n",
    "        self.fc3 = nn.Linear(64, 10)\n",
    "        self.relu = nn.ReLU()\n",
    "        \n",
    "    def forward(self, x):\n",
    "        x = self.flatten(x)\n",
    "        x = self.relu(self.fc1(x))\n",
    "        x = self.relu(self.fc2(x))\n",
    "        x = self.fc3(x)\n",
    "        return x"
   ],
   "id": "efc6f8a4290bb055",
   "outputs": [],
   "execution_count": 50
  },
  {
   "metadata": {
    "ExecuteTime": {
     "end_time": "2025-01-27T13:34:03.352933Z",
     "start_time": "2025-01-27T13:34:03.348075Z"
    }
   },
   "cell_type": "code",
   "source": [
    "# Training loop\n",
    "def train(dataloader, model, loss_function, optimizer, epochs):\n",
    "    loss_values = []\n",
    "    model.train()\n",
    "    for epoch in range(epochs):\n",
    "        print(f\"Epoch {epoch+1}\\n-------------------------------\")\n",
    "        size = len(dataloader.dataset)\n",
    "        total_loss = 0\n",
    "        correct = 0\n",
    "        for batch, (X, y) in enumerate(dataloader):\n",
    "            X, y = X.to(device), y.to(device)\n",
    "            \n",
    "            # Compute prediction error\n",
    "            pred = model(X)\n",
    "            loss = loss_function(pred, y)\n",
    "            \n",
    "            # Backpropagation\n",
    "            optimizer.zero_grad()\n",
    "            loss.backward()\n",
    "            optimizer.step()\n",
    "            \n",
    "            # Log the loss and accuracy\n",
    "            total_loss += loss.item()\n",
    "            correct += (pred.argmax(1) == y).type(torch.float).sum().item()\n",
    "        \n",
    "        avg_loss = total_loss / len(dataloader)\n",
    "        accuracy = correct / size\n",
    "        loss_values.append(avg_loss)\n",
    "        print(f\"Loss: {avg_loss:>8f}, Accuracy: {(100*accuracy):>0.1f}%\")\n",
    "        \n",
    "    return loss_values\n",
    "        "
   ],
   "id": "3b21a2862a0beaae",
   "outputs": [],
   "execution_count": 61
  },
  {
   "metadata": {
    "ExecuteTime": {
     "end_time": "2025-01-27T13:18:43.843680Z",
     "start_time": "2025-01-27T13:18:43.839631Z"
    }
   },
   "cell_type": "code",
   "source": [
    "def test(dataloader, model, loss_function):\n",
    "    size = len(dataloader.dataset)\n",
    "    num_batches = len(dataloader)\n",
    "    model.eval()\n",
    "    test_loss, correct = 0, 0\n",
    "    with torch.no_grad():\n",
    "        for X, y in dataloader:\n",
    "            X, y = X.to(device), y.to(device)\n",
    "            pred = model(X)\n",
    "            test_loss += loss_function(pred, y).item()\n",
    "            correct += (pred.argmax(1) == y).type(torch.float).sum().item()\n",
    "    test_loss /= size\n",
    "    correct /= size\n",
    "    \n",
    "    accuracy = 100 * correct\n",
    "    avg_loss = test_loss\n",
    "    \n",
    "    return accuracy, avg_loss"
   ],
   "id": "ebaefed2b89cbaa1",
   "outputs": [],
   "execution_count": 52
  },
  {
   "metadata": {
    "ExecuteTime": {
     "end_time": "2025-01-27T13:18:43.851419Z",
     "start_time": "2025-01-27T13:18:43.847775Z"
    }
   },
   "cell_type": "code",
   "source": [
    "def calculate_bias_variance(model, dataloader, num_samples=100):\n",
    "    model.eval()\n",
    "    predictions = []\n",
    "    true_values = []\n",
    "    \n",
    "    with torch.no_grad():\n",
    "        for X, y in dataloader:\n",
    "            X, y = X.to(device), y.to(device)\n",
    "            true_values.append(y.cpu().numpy())\n",
    "            preds = []\n",
    "            for _ in range(num_samples):\n",
    "                preds.append(model(X).cpu().numpy())\n",
    "            predictions.append(np.mean(preds, axis=0))\n",
    "    \n",
    "    predictions = np.concatenate(predictions)\n",
    "    true_values = np.concatenate(true_values)\n",
    "    \n",
    "    # Convert true_values to one-hot encoding\n",
    "    true_values_one_hot = np.eye(predictions.shape[1])[true_values]\n",
    "    \n",
    "    bias = np.mean((predictions - true_values_one_hot) ** 2)\n",
    "    \n",
    "    variance = np.mean(np.var(predictions, axis=0))\n",
    "    \n",
    "    return bias, variance"
   ],
   "id": "3aceac818ae982eb",
   "outputs": [],
   "execution_count": 53
  },
  {
   "metadata": {
    "ExecuteTime": {
     "end_time": "2025-01-27T13:18:43.859465Z",
     "start_time": "2025-01-27T13:18:43.855943Z"
    }
   },
   "cell_type": "code",
   "source": [
    "def plot_loss(loss_values):\n",
    "    plt.plot(loss_values, label=\"Loss\")\n",
    "    plt.xlabel(\"Epoch\")\n",
    "    plt.ylabel(\"Loss\")\n",
    "    plt.legend()\n",
    "    plt.show()"
   ],
   "id": "8aeffca7201b88c9",
   "outputs": [],
   "execution_count": 54
  },
  {
   "metadata": {
    "ExecuteTime": {
     "end_time": "2025-01-27T13:31:21.094528Z",
     "start_time": "2025-01-27T13:31:21.089888Z"
    }
   },
   "cell_type": "code",
   "source": [
    "def run_experiment(model, learning_rate=1e-3, epochs=5, optimizer_name='adam',weight_decay=None, momentum=None, save_path=None):\n",
    "    start_time = time.time()\n",
    "    model = model.to(device)\n",
    "    \n",
    "    # Set the optimizer parameters if specified in the function call\n",
    "    optimizer_params = {'lr': learning_rate}\n",
    "    if weight_decay:\n",
    "        optimizer_params['weight_decay'] = weight_decay\n",
    "    \n",
    "    # Initialize the optimizer based on the optimizer name\n",
    "    if optimizer_name.lower() == 'adam':\n",
    "        optimizer = torch.optim.Adam(model.parameters(), **optimizer_params)\n",
    "        \n",
    "    elif optimizer_name.lower() == 'sgd':\n",
    "        if momentum: # Check if momentum is specified only for SGD\n",
    "            optimizer_params['momentum'] = momentum\n",
    "        optimizer = torch.optim.SGD(model.parameters(), **optimizer_params)\n",
    "    else:\n",
    "        raise ValueError(\"Invalid optimizer name\")\n",
    "    \n",
    "    # Initialize the loss function\n",
    "    loss_function = nn.CrossEntropyLoss()\n",
    "    \n",
    "    loss_values = train(train_dataloader, model, loss_function, optimizer, epochs)\n",
    "    \n",
    "    test_accuracy, test_loss = test(test_dataloader, model, loss_function)\n",
    "    bias, variance = calculate_bias_variance(model, test_dataloader)\n",
    "    \n",
    "    print(f\"Time taken: {time.time() - start_time} seconds\")\n",
    "    print(\"Test results:\")\n",
    "    \n",
    "    print(f\"Test Error: \\n Accuracy: {test_accuracy:>0.1f}%, Avg loss: {test_loss:>8f}\")\n",
    "    \n",
    "    print( f\"Bias: {bias}, Variance: {variance}\")\n",
    "    \n",
    "    plot_loss(loss_values)\n",
    "    \n",
    "    if save_path:\n",
    "        torch.save(model.state_dict(), save_path)\n",
    "        print(f\"Saved PyTorch Model State to {save_path}\")\n",
    "    "
   ],
   "id": "462907d9e39015f3",
   "outputs": [],
   "execution_count": 59
  },
  {
   "metadata": {},
   "cell_type": "code",
   "source": [
    "# Initialize the base model\n",
    "start_time = time.time()\n",
    "model = base_model().to(device)\n",
    "\n",
    "optimizer = torch.optim.SGD(model.parameters(), lr=1e-3)\n",
    "loss_function = nn.CrossEntropyLoss()\n",
    "\n",
    "epochs = 40\n",
    "loss_values = train(train_dataloader, model, loss_function, optimizer, epochs)\n",
    "    \n",
    "# Calculate the model accuracy on the test set, bias and variance\n",
    "test_accuracy, test_loss = test(test_dataloader, model, loss_function)\n",
    "bias, variance = calculate_bias_variance(model, test_dataloader, loss_function)\n",
    "\n",
    "print(f\"Time taken: {time.time() - start_time} seconds\")\n",
    "print(\"Test results:\")\n",
    "\n",
    "print(f\"Test Error: \\n Accuracy: {test_accuracy:>0.1f}%, Avg loss: {test_loss:>8f}\")\n",
    "\n",
    "print( f\"Bias: {bias}, Variance: {variance}\")\n",
    "\n",
    "plot_loss(loss_values)\n",
    "\n",
    "# saving the model\n",
    "torch.save(model.state_dict(), \"base_model.pth\")\n",
    "\n",
    "print(\"Saved PyTorch Model State to base_model.pth\")"
   ],
   "id": "81ead3658aed425a",
   "outputs": [],
   "execution_count": null
  },
  {
   "metadata": {
    "ExecuteTime": {
     "end_time": "2025-01-27T13:33:46.994026Z",
     "start_time": "2025-01-27T13:31:23.966937Z"
    }
   },
   "cell_type": "code",
   "source": "run_experiment(base_model(), learning_rate=1e-3, epochs=40, optimizer_name='sgd', save_path=\"base_model.pth\")",
   "id": "3a58445843ad18",
   "outputs": [
    {
     "name": "stdout",
     "output_type": "stream",
     "text": [
      "Loss: 2.297181, Accuracy: 11.9%\n",
      "Loss: 2.280517, Accuracy: 15.8%\n",
      "Loss: 2.257672, Accuracy: 16.9%\n",
      "Loss: 2.223903, Accuracy: 18.0%\n",
      "Loss: 2.177718, Accuracy: 19.9%\n",
      "Loss: 2.126403, Accuracy: 22.4%\n",
      "Loss: 2.080263, Accuracy: 25.2%\n",
      "Loss: 2.042769, Accuracy: 27.3%\n",
      "Loss: 2.012714, Accuracy: 28.3%\n",
      "Loss: 1.988468, Accuracy: 29.0%\n",
      "Loss: 1.968537, Accuracy: 29.6%\n",
      "Loss: 1.951696, Accuracy: 30.2%\n",
      "Loss: 1.937124, Accuracy: 30.7%\n",
      "Loss: 1.924352, Accuracy: 31.3%\n",
      "Loss: 1.913027, Accuracy: 31.8%\n",
      "Loss: 1.902840, Accuracy: 32.2%\n",
      "Loss: 1.893531, Accuracy: 32.5%\n",
      "Loss: 1.884790, Accuracy: 32.9%\n",
      "Loss: 1.876365, Accuracy: 33.2%\n",
      "Loss: 1.868010, Accuracy: 33.6%\n",
      "Loss: 1.859855, Accuracy: 33.9%\n",
      "Loss: 1.851837, Accuracy: 34.2%\n",
      "Loss: 1.843882, Accuracy: 34.6%\n",
      "Loss: 1.835996, Accuracy: 34.9%\n",
      "Loss: 1.828195, Accuracy: 35.3%\n",
      "Loss: 1.820497, Accuracy: 35.5%\n",
      "Loss: 1.812956, Accuracy: 35.8%\n",
      "Loss: 1.805584, Accuracy: 36.1%\n",
      "Loss: 1.798415, Accuracy: 36.3%\n",
      "Loss: 1.791462, Accuracy: 36.6%\n",
      "Loss: 1.784717, Accuracy: 36.7%\n",
      "Loss: 1.778196, Accuracy: 37.0%\n",
      "Loss: 1.771870, Accuracy: 37.2%\n",
      "Loss: 1.765738, Accuracy: 37.4%\n",
      "Loss: 1.759739, Accuracy: 37.6%\n",
      "Loss: 1.753906, Accuracy: 37.8%\n",
      "Loss: 1.748240, Accuracy: 38.0%\n",
      "Loss: 1.742724, Accuracy: 38.2%\n",
      "Loss: 1.737317, Accuracy: 38.4%\n",
      "Loss: 1.732052, Accuracy: 38.6%\n",
      "Time taken: 142.9653787612915 seconds\n",
      "Test results:\n",
      "Test Error: \n",
      " Accuracy: 38.3%, Avg loss: 0.027130\n",
      "Bias: 1.4177353717478096, Variance: 1.503138780593872\n"
     ]
    },
    {
     "data": {
      "text/plain": [
       "<Figure size 640x480 with 1 Axes>"
      ],
      "image/png": "[encoded data removed]"
     },
     "metadata": {},
     "output_type": "display_data"
    },
    {
     "name": "stdout",
     "output_type": "stream",
     "text": [
      "Saved PyTorch Model State to base_model.pth\n"
     ]
    }
   ],
   "execution_count": 60
  },
  {
   "metadata": {},
   "cell_type": "markdown",
   "source": [
    "\n",
    "\n",
    "        "
   ],
   "id": "6cf7141e13da6e00"
  },
  {
   "metadata": {},
   "cell_type": "markdown",
   "source": [
    "## Convolutional Neural Network\n",
    "Below is a simple CNN model that I will use to demonstrate the power of CNNs on the CIFAR10 dataset.\n",
    "This CNN has roughly the same number of parameters and complexity as the base model.\n",
    "\n",
    "### Parameter count:\n",
    "#### convoluted model\n",
    "\n",
    "conv1: 3 x 12 x 3 x 3 + 12 = 336\n",
    "\n",
    "conv2: 12 x 12 x 3 x 3 + 12 = 1308\n",
    "\n",
    "fc1: 3072 x 64 + 64 = 196672\n",
    "\n",
    "fc2: 64 x 10 + 10 = 650\n",
    "\n",
    "total parameters: 336 + 1308 + 196672 + 650 = 198,966 ~ 200k\n",
    "\n",
    "#### base model\n",
    "\n",
    "fc1: 3 * 32* 32 * 64 + 64 = 196,672\n",
    "\n",
    "fc2: 64 * 64 + 64 = 4,160\n",
    "\n",
    "fc3: 64 * 10 + 10 = 650\n",
    "\n",
    "total parameters: 196672 + 4160 + 650 = 201,482 ~ 200k\n",
    "\n"
   ],
   "id": "52dfa3b2059c9767"
  },
  {
   "metadata": {
    "ExecuteTime": {
     "end_time": "2025-01-27T13:52:08.535522Z",
     "start_time": "2025-01-27T13:52:08.528960Z"
    }
   },
   "cell_type": "code",
   "source": [
    "class base_conv_model(nn.Module):\n",
    "    def __init__(self):\n",
    "        super().__init__()\n",
    "        \n",
    "        # Two small convolutional layers, each with 12 output channels\n",
    "        self.conv1 = nn.Conv2d(in_channels=3, out_channels=12, kernel_size=3, padding=1)\n",
    "        self.conv2 = nn.Conv2d(in_channels=12, out_channels=12, kernel_size=3, padding=1)\n",
    "        \n",
    "        # Pool to reduce spatial dimension from 32x32 to 16x16\n",
    "        self.pool = nn.MaxPool2d(kernel_size=2, stride=2)\n",
    "        \n",
    "        # Flatten before feeding into linear layers\n",
    "        self.flatten = nn.Flatten()\n",
    "        \n",
    "        # After the pool layer, the spatial dimension is 16x16 and we have 12 channels\n",
    "        # --> 12 * 16 * 16 = 3072\n",
    "        self.fc1 = nn.Linear(12 * 16 * 16, 64)\n",
    "        self.fc2 = nn.Linear(64, 10)\n",
    "        \n",
    "        # Non-linear activation\n",
    "        self.relu = nn.ReLU()\n",
    "\n",
    "    def forward(self, x):\n",
    "        # Convolution + ReLU\n",
    "        x = self.relu(self.conv1(x))\n",
    "        x = self.relu(self.conv2(x))\n",
    "        \n",
    "        # Pooling\n",
    "        x = self.pool(x)\n",
    "        \n",
    "        # Flatten to [batch_size, 12*16*16]\n",
    "        x = self.flatten(x)\n",
    "        \n",
    "        # Final fully-connected layers + ReLU in between\n",
    "        x = self.relu(self.fc1(x))\n",
    "        x = self.fc2(x)\n",
    "        return x\n",
    "        "
   ],
   "id": "5f8a975df5443a80",
   "outputs": [],
   "execution_count": 62
  },
  {
   "metadata": {
    "ExecuteTime": {
     "end_time": "2025-01-27T13:56:22.575898Z",
     "start_time": "2025-01-27T13:53:15.947975Z"
    }
   },
   "cell_type": "code",
   "source": "run_experiment(base_conv_model(), learning_rate=1e-3, epochs=40, optimizer_name='sgd', save_path=\"base_model.pth\")",
   "id": "6b6226e942ed9235",
   "outputs": [
    {
     "name": "stdout",
     "output_type": "stream",
     "text": [
      "Epoch 1\n",
      "-------------------------------\n",
      "Loss: 2.304534, Accuracy: 9.8%\n",
      "Epoch 2\n",
      "-------------------------------\n",
      "Loss: 2.302693, Accuracy: 10.1%\n",
      "Epoch 3\n",
      "-------------------------------\n",
      "Loss: 2.300950, Accuracy: 11.3%\n",
      "Epoch 4\n",
      "-------------------------------\n",
      "Loss: 2.298981, Accuracy: 13.9%\n",
      "Epoch 5\n",
      "-------------------------------\n",
      "Loss: 2.296355, Accuracy: 17.2%\n",
      "Epoch 6\n",
      "-------------------------------\n",
      "Loss: 2.292329, Accuracy: 17.9%\n",
      "Epoch 7\n",
      "-------------------------------\n",
      "Loss: 2.285431, Accuracy: 19.0%\n",
      "Epoch 8\n",
      "-------------------------------\n",
      "Loss: 2.272716, Accuracy: 20.2%\n",
      "Epoch 9\n",
      "-------------------------------\n",
      "Loss: 2.247112, Accuracy: 21.1%\n",
      "Epoch 10\n",
      "-------------------------------\n",
      "Loss: 2.195506, Accuracy: 23.0%\n",
      "Epoch 11\n",
      "-------------------------------\n",
      "Loss: 2.116791, Accuracy: 25.3%\n",
      "Epoch 12\n",
      "-------------------------------\n",
      "Loss: 2.050107, Accuracy: 27.0%\n",
      "Epoch 13\n",
      "-------------------------------\n",
      "Loss: 2.008154, Accuracy: 28.4%\n",
      "Epoch 14\n",
      "-------------------------------\n",
      "Loss: 1.977744, Accuracy: 29.7%\n",
      "Epoch 15\n",
      "-------------------------------\n",
      "Loss: 1.953602, Accuracy: 30.7%\n",
      "Epoch 16\n",
      "-------------------------------\n",
      "Loss: 1.933339, Accuracy: 31.6%\n",
      "Epoch 17\n",
      "-------------------------------\n",
      "Loss: 1.914964, Accuracy: 32.4%\n",
      "Epoch 18\n",
      "-------------------------------\n",
      "Loss: 1.896683, Accuracy: 33.1%\n",
      "Epoch 19\n",
      "-------------------------------\n",
      "Loss: 1.878303, Accuracy: 33.8%\n",
      "Epoch 20\n",
      "-------------------------------\n",
      "Loss: 1.859391, Accuracy: 34.7%\n",
      "Epoch 21\n",
      "-------------------------------\n",
      "Loss: 1.839895, Accuracy: 35.5%\n",
      "Epoch 22\n",
      "-------------------------------\n",
      "Loss: 1.819611, Accuracy: 36.3%\n",
      "Epoch 23\n",
      "-------------------------------\n",
      "Loss: 1.798802, Accuracy: 37.1%\n",
      "Epoch 24\n",
      "-------------------------------\n",
      "Loss: 1.778035, Accuracy: 37.7%\n",
      "Epoch 25\n",
      "-------------------------------\n",
      "Loss: 1.757559, Accuracy: 38.4%\n",
      "Epoch 26\n",
      "-------------------------------\n",
      "Loss: 1.737559, Accuracy: 39.2%\n",
      "Epoch 27\n",
      "-------------------------------\n",
      "Loss: 1.718026, Accuracy: 39.8%\n",
      "Epoch 28\n",
      "-------------------------------\n",
      "Loss: 1.699193, Accuracy: 40.4%\n",
      "Epoch 29\n",
      "-------------------------------\n",
      "Loss: 1.680897, Accuracy: 41.0%\n",
      "Epoch 30\n",
      "-------------------------------\n",
      "Loss: 1.662984, Accuracy: 41.5%\n",
      "Epoch 31\n",
      "-------------------------------\n",
      "Loss: 1.645595, Accuracy: 42.1%\n",
      "Epoch 32\n",
      "-------------------------------\n",
      "Loss: 1.628279, Accuracy: 42.7%\n",
      "Epoch 33\n",
      "-------------------------------\n",
      "Loss: 1.611201, Accuracy: 43.2%\n",
      "Epoch 34\n",
      "-------------------------------\n",
      "Loss: 1.594677, Accuracy: 43.7%\n",
      "Epoch 35\n",
      "-------------------------------\n",
      "Loss: 1.578289, Accuracy: 44.2%\n",
      "Epoch 36\n",
      "-------------------------------\n",
      "Loss: 1.562579, Accuracy: 44.8%\n",
      "Epoch 37\n",
      "-------------------------------\n",
      "Loss: 1.547938, Accuracy: 45.3%\n",
      "Epoch 38\n",
      "-------------------------------\n",
      "Loss: 1.534273, Accuracy: 45.8%\n",
      "Epoch 39\n",
      "-------------------------------\n",
      "Loss: 1.521419, Accuracy: 46.3%\n",
      "Epoch 40\n",
      "-------------------------------\n",
      "Loss: 1.509514, Accuracy: 46.7%\n",
      "Time taken: 186.56540656089783 seconds\n",
      "Test results:\n",
      "Test Error: \n",
      " Accuracy: 43.6%, Avg loss: 0.024605\n",
      "Bias: 2.724101569422381, Variance: 2.5853898525238037\n"
     ]
    },
    {
     "data": {
      "text/plain": [
       "<Figure size 640x480 with 1 Axes>"
      ],
      "image/png": "[encoded data removed]"
     },
     "metadata": {},
     "output_type": "display_data"
    },
    {
     "name": "stdout",
     "output_type": "stream",
     "text": [
      "Saved PyTorch Model State to base_model.pth\n"
     ]
    }
   ],
   "execution_count": 63
  }
 ],
 "metadata": {
  "kernelspec": {
   "display_name": "Python 3",
   "language": "python",
   "name": "python3"
  },
  "language_info": {
   "codemirror_mode": {
    "name": "ipython",
    "version": 2
   },
   "file_extension": ".py",
   "mimetype": "text/x-python",
   "name": "python",
   "nbconvert_exporter": "python",
   "pygments_lexer": "ipython2",
   "version": "2.7.6"
  }
 },
 "nbformat": 4,
 "nbformat_minor": 5
}
